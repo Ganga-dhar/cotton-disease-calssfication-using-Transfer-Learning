{
  "nbformat": 4,
  "nbformat_minor": 0,
  "metadata": {
    "colab": {
      "name": "CNN from Scratch and AlexNet models.ipynb",
      "provenance": [],
      "collapsed_sections": [],
      "authorship_tag": "ABX9TyPy3Wq8pd2aSEaXyw8EyYYt",
      "include_colab_link": true
    },
    "kernelspec": {
      "name": "python3",
      "display_name": "Python 3"
    },
    "language_info": {
      "name": "python"
    },
    "accelerator": "GPU"
  },
  "cells": [
    {
      "cell_type": "markdown",
      "metadata": {
        "id": "view-in-github",
        "colab_type": "text"
      },
      "source": [
        "<a href=\"https://colab.research.google.com/github/Ganga-dhar/cotton-disease-calssfication-using-Transfer-Learning/blob/main/CNN_from_Scratch_and_AlexNet_models.ipynb\" target=\"_parent\"><img src=\"https://colab.research.google.com/assets/colab-badge.svg\" alt=\"Open In Colab\"/></a>"
      ]
    },
    {
      "cell_type": "code",
      "metadata": {
        "colab": {
          "base_uri": "https://localhost:8080/"
        },
        "id": "r3SgGINpOgeq",
        "outputId": "3bd22120-de93-49b8-8e0a-12e756956434"
      },
      "source": [
        "import tensorflow as tf \n",
        "\n",
        "if tf.test.gpu_device_name(): \n",
        "    \n",
        "\n",
        "    print('Default GPU Device:{}'.format(tf.test.gpu_device_name()))\n",
        "\n",
        "else:\n",
        "\n",
        "    print(\"Please install GPU version of TF\")"
      ],
      "execution_count": 1,
      "outputs": [
        {
          "output_type": "stream",
          "text": [
            "Default GPU Device:/device:GPU:0\n"
          ],
          "name": "stdout"
        }
      ]
    },
    {
      "cell_type": "code",
      "metadata": {
        "colab": {
          "base_uri": "https://localhost:8080/",
          "height": 35
        },
        "id": "-67p7_CzOrjc",
        "outputId": "0f2bb08a-5ad5-42a7-a092-74edeca620a8"
      },
      "source": [
        "tf.test.gpu_device_name()"
      ],
      "execution_count": 2,
      "outputs": [
        {
          "output_type": "execute_result",
          "data": {
            "application/vnd.google.colaboratory.intrinsic+json": {
              "type": "string"
            },
            "text/plain": [
              "'/device:GPU:0'"
            ]
          },
          "metadata": {
            "tags": []
          },
          "execution_count": 2
        }
      ]
    },
    {
      "cell_type": "code",
      "metadata": {
        "colab": {
          "base_uri": "https://localhost:8080/"
        },
        "id": "E0M7G0s7OrgQ",
        "outputId": "c83b75ef-0de3-4b50-c43a-011137533e50"
      },
      "source": [
        "import os\n",
        "os.environ['KAGGLE_USERNAME'] = \"mathyam\" # username from the json file\n",
        "os.environ['KAGGLE_KEY'] = \"ac43c48d6cec800e4ff66f9e864fba08\" # Provide your key from the json file\n",
        "#!kaggle competitions download -c dogs-vs-cats # api copied from kaggle\n",
        "\n",
        "!kaggle datasets download -d janmejaybhoi/cotton-disease-dataset"
      ],
      "execution_count": 3,
      "outputs": [
        {
          "output_type": "stream",
          "text": [
            "Downloading cotton-disease-dataset.zip to /content\n",
            " 91% 134M/148M [00:00<00:00, 199MB/s]\n",
            "100% 148M/148M [00:00<00:00, 200MB/s]\n"
          ],
          "name": "stdout"
        }
      ]
    },
    {
      "cell_type": "code",
      "metadata": {
        "colab": {
          "base_uri": "https://localhost:8080/"
        },
        "id": "7kP5QGR3Ordn",
        "outputId": "b09360ef-475a-4782-e64d-62cbe05e7348"
      },
      "source": [
        "# Upload data and extract the contents\n",
        "from zipfile import ZipFile\n",
        "\n",
        "file_name = \"/content/cotton-disease-dataset.zip\"\n",
        "\n",
        "with ZipFile(file_name, 'r') as zip:\n",
        "  zip.extractall()\n",
        "  print('done')"
      ],
      "execution_count": 4,
      "outputs": [
        {
          "output_type": "stream",
          "text": [
            "done\n"
          ],
          "name": "stdout"
        }
      ]
    },
    {
      "cell_type": "code",
      "metadata": {
        "id": "-RCUXDfVOraq"
      },
      "source": [
        "# re-size all the images to this\n",
        "IMAGE_SIZE = [224, 224]\n",
        "\n",
        "train_path = '/content/Cotton Disease/train'\n",
        "valid_path = '/content/Cotton Disease/test'"
      ],
      "execution_count": 5,
      "outputs": []
    },
    {
      "cell_type": "code",
      "metadata": {
        "id": "P3Yr7XB1OrXw"
      },
      "source": [
        "import keras\n",
        "from keras.models import Sequential\n",
        "from keras.layers import Dense, Activation, Dropout, Flatten,\\\n",
        " Conv2D, MaxPooling2D\n",
        "from keras.layers.normalization import BatchNormalization\n",
        "import numpy as np"
      ],
      "execution_count": 6,
      "outputs": []
    },
    {
      "cell_type": "code",
      "metadata": {
        "id": "5s1VRq3XQlTr"
      },
      "source": [
        "import tensorflow as tf"
      ],
      "execution_count": 10,
      "outputs": []
    },
    {
      "cell_type": "code",
      "metadata": {
        "id": "g6qjjfGVQopq"
      },
      "source": [
        ""
      ],
      "execution_count": null,
      "outputs": []
    },
    {
      "cell_type": "code",
      "metadata": {
        "id": "NZ1WBT2SQhPM"
      },
      "source": [
        "import numpy as np\n",
        "import pandas as pd\n",
        "\n",
        "from tensorflow import keras\n",
        "from tensorflow.keras import layers\n",
        "from kerastuner.tuners import RandomSearch\n",
        "from tensorflow.keras.models import Sequential,Model\n",
        "from tensorflow.keras.layers import Conv2D\n",
        "from tensorflow.keras.layers import Flatten\n",
        "from tensorflow.keras.layers import MaxPool2D\n",
        "from tensorflow.keras.preprocessing.image import ImageDataGenerator\n"
      ],
      "execution_count": null,
      "outputs": []
    },
    {
      "cell_type": "code",
      "metadata": {
        "id": "BURLioViQn-0"
      },
      "source": [
        ""
      ],
      "execution_count": null,
      "outputs": []
    },
    {
      "cell_type": "code",
      "metadata": {
        "id": "ydnigmUtP0cr"
      },
      "source": [
        "# Use the Image Data Generator to import the images from the dataset\n",
        "from tensorflow.keras.preprocessing.image import ImageDataGenerator\n",
        "\n",
        "train_datagen = ImageDataGenerator(rescale = 1./255,\n",
        "                                   shear_range = 0.2,\n",
        "                                   zoom_range = 0.2,\n",
        "                                   horizontal_flip = True)\n",
        "\n",
        "test_datagen = ImageDataGenerator(rescale = 1./255)"
      ],
      "execution_count": 7,
      "outputs": []
    },
    {
      "cell_type": "code",
      "metadata": {
        "colab": {
          "base_uri": "https://localhost:8080/"
        },
        "id": "rvVe3sc_OrUx",
        "outputId": "fdb41a1a-6987-4fbb-9794-084fac2c6c5f"
      },
      "source": [
        "\n",
        "# Make sure you provide the same target size as initialied for the image size\n",
        "training_set = train_datagen.flow_from_directory('/content/Cotton Disease/train',\n",
        "                                                 target_size = (224, 224),\n",
        "                                                 batch_size = 32,\n",
        "                                                 class_mode = 'categorical')"
      ],
      "execution_count": 8,
      "outputs": [
        {
          "output_type": "stream",
          "text": [
            "Found 1951 images belonging to 4 classes.\n"
          ],
          "name": "stdout"
        }
      ]
    },
    {
      "cell_type": "code",
      "metadata": {
        "colab": {
          "base_uri": "https://localhost:8080/"
        },
        "id": "leA--sRlOrR7",
        "outputId": "eea8418b-2cb6-41af-949b-17259c9abc1d"
      },
      "source": [
        "test_set = test_datagen.flow_from_directory('/content/Cotton Disease/test',\n",
        "                                            target_size = (224, 224),\n",
        "                                            batch_size = 32,\n",
        "                                            class_mode = 'categorical')"
      ],
      "execution_count": 9,
      "outputs": [
        {
          "output_type": "stream",
          "text": [
            "Found 106 images belonging to 4 classes.\n"
          ],
          "name": "stdout"
        }
      ]
    },
    {
      "cell_type": "code",
      "metadata": {
        "id": "_hXUI8lSOrPK"
      },
      "source": [
        "\"\"\"\n",
        "Creating CNN model from Scratch.\n",
        "\"\"\"\n",
        "# Initialising the CNN\n",
        "cnn = tf.keras.models.Sequential()\n",
        "# step:1 Convolution \n",
        "cnn.add(tf.keras.layers.Conv2D(filters=64,padding = \"same\",kernel_size=3,activation='relu',input_shape=[224,224,3]))\n",
        "cnn.add(tf.keras.layers.Conv2D(filters=32,padding = \"same\",kernel_size=3,activation='relu'))\n",
        "# step:2 pooling\n",
        "cnn.add(tf.keras.layers.MaxPool2D(pool_size=2,strides=2))\n",
        "# Convolution\n",
        "cnn.add(tf.keras.layers.Conv2D(filters=16,padding = \"same\",kernel_size=3,activation='relu'))\n",
        "cnn.add(tf.keras.layers.Conv2D(filters=16,padding = \"same\",kernel_size=3,activation='relu'))\n",
        "#pooling\n",
        "cnn.add(tf.keras.layers.MaxPool2D(pool_size=2,strides=2))\n",
        "\n",
        "#step:3 flaterning\n",
        "cnn.add(tf.keras.layers.Flatten())\n",
        "#step:4 Fully connected layer\n",
        "cnn.add(tf.keras.layers.Dense(units=128,activation='relu'))\n",
        "cnn.add(tf.keras.layers.Dense(units=128,activation='relu'))\n",
        "# step:5 Output layer\n",
        "cnn.add(tf.keras.layers.Dense(units=4,activation='softmax'))\n",
        "\n",
        "______________________________________________________________________________\n",
        "# # approch-2 -  Building the CNN\n",
        "\n",
        "# # Initialising the CNN\n",
        "# cnn = Sequential()\n",
        "\n",
        "# # Step 1 - Convolution\n",
        "# cnn.add(Conv2D(filters = 32, padding = 'same', kernel_size=3, activation='relu',\n",
        "#                               input_shape=[128, 128, 3]))\n",
        "\n",
        "# # Step 2 - Pooling\n",
        "# cnn.add(MaxPool2D(pool_size=2, strides=2))\n",
        "\n",
        "# cnn.add(Dropout(rate=0.25))\n",
        "\n",
        "# # Adding a second convolutional layer\n",
        "# cnn.add(Conv2D(filters = 32, padding='same', kernel_size=3, activation='relu'))\n",
        "# cnn.add(Conv2D(filters = 64, padding='same', kernel_size=3, activation='relu'))\n",
        "# cnn.add(MaxPool2D(pool_size=2, strides=2))\n",
        "\n",
        "# cnn.add(Dropout(rate=0.25))\n",
        "\n",
        "# # Step 3 - Flattening\n",
        "# cnn.add(Flatten())\n",
        "\n",
        "# # Step 4 - Full Connection\n",
        "# cnn.add(Dense(units=128, activation='relu'))\n",
        "# cnn.add(Dense(units=128, activation='relu'))\n",
        "\n",
        "# cnn.add(Dropout(rate=0.25))\n",
        "\n",
        "# # Step 5 - Output layer\n",
        "# cnn.add(Dense(units=4, activation='softmax'))"
      ],
      "execution_count": 12,
      "outputs": []
    },
    {
      "cell_type": "code",
      "metadata": {
        "id": "py8-837iOrMR"
      },
      "source": [
        "cnn.compile(optimizer='adam',loss='categorical_crossentropy',metrics=['accuracy'])"
      ],
      "execution_count": 13,
      "outputs": []
    },
    {
      "cell_type": "code",
      "metadata": {
        "colab": {
          "base_uri": "https://localhost:8080/"
        },
        "id": "XntjAwrROrJY",
        "outputId": "3ea6c97b-8769-47c3-c11e-e07a9cb5515a"
      },
      "source": [
        "history = cnn.fit(x = training_set, validation_data = test_set, epochs = 20)"
      ],
      "execution_count": 14,
      "outputs": [
        {
          "output_type": "stream",
          "text": [
            "Epoch 1/20\n",
            "61/61 [==============================] - 68s 565ms/step - loss: 1.3408 - accuracy: 0.3952 - val_loss: 1.2375 - val_accuracy: 0.3962\n",
            "Epoch 2/20\n",
            "61/61 [==============================] - 32s 523ms/step - loss: 1.0587 - accuracy: 0.5536 - val_loss: 0.8928 - val_accuracy: 0.6226\n",
            "Epoch 3/20\n",
            "61/61 [==============================] - 32s 522ms/step - loss: 0.8349 - accuracy: 0.6674 - val_loss: 0.7856 - val_accuracy: 0.6604\n",
            "Epoch 4/20\n",
            "61/61 [==============================] - 32s 520ms/step - loss: 0.6218 - accuracy: 0.7468 - val_loss: 0.5035 - val_accuracy: 0.8208\n",
            "Epoch 5/20\n",
            "61/61 [==============================] - 32s 521ms/step - loss: 0.5416 - accuracy: 0.7929 - val_loss: 0.4725 - val_accuracy: 0.8302\n",
            "Epoch 6/20\n",
            "61/61 [==============================] - 32s 524ms/step - loss: 0.4789 - accuracy: 0.8011 - val_loss: 0.4410 - val_accuracy: 0.8019\n",
            "Epoch 7/20\n",
            "61/61 [==============================] - 32s 524ms/step - loss: 0.4330 - accuracy: 0.8257 - val_loss: 0.4324 - val_accuracy: 0.8491\n",
            "Epoch 8/20\n",
            "61/61 [==============================] - 32s 530ms/step - loss: 0.3765 - accuracy: 0.8560 - val_loss: 0.3193 - val_accuracy: 0.9057\n",
            "Epoch 9/20\n",
            "61/61 [==============================] - 32s 523ms/step - loss: 0.3177 - accuracy: 0.8765 - val_loss: 0.3179 - val_accuracy: 0.8774\n",
            "Epoch 10/20\n",
            "61/61 [==============================] - 32s 530ms/step - loss: 0.2799 - accuracy: 0.8877 - val_loss: 0.2618 - val_accuracy: 0.9245\n",
            "Epoch 11/20\n",
            "61/61 [==============================] - 32s 528ms/step - loss: 0.2492 - accuracy: 0.9036 - val_loss: 0.5943 - val_accuracy: 0.8208\n",
            "Epoch 12/20\n",
            "61/61 [==============================] - 32s 526ms/step - loss: 0.2651 - accuracy: 0.8908 - val_loss: 0.3685 - val_accuracy: 0.8868\n",
            "Epoch 13/20\n",
            "61/61 [==============================] - 32s 526ms/step - loss: 0.2660 - accuracy: 0.8975 - val_loss: 0.3640 - val_accuracy: 0.8585\n",
            "Epoch 14/20\n",
            "61/61 [==============================] - 32s 526ms/step - loss: 0.2196 - accuracy: 0.9159 - val_loss: 0.2955 - val_accuracy: 0.9151\n",
            "Epoch 15/20\n",
            "61/61 [==============================] - 32s 529ms/step - loss: 0.2033 - accuracy: 0.9211 - val_loss: 0.3039 - val_accuracy: 0.9151\n",
            "Epoch 16/20\n",
            "61/61 [==============================] - 32s 527ms/step - loss: 0.1905 - accuracy: 0.9272 - val_loss: 0.3697 - val_accuracy: 0.8774\n",
            "Epoch 17/20\n",
            "61/61 [==============================] - 33s 533ms/step - loss: 0.2042 - accuracy: 0.9262 - val_loss: 0.4822 - val_accuracy: 0.8679\n",
            "Epoch 18/20\n",
            "61/61 [==============================] - 32s 525ms/step - loss: 0.1729 - accuracy: 0.9334 - val_loss: 0.3321 - val_accuracy: 0.8962\n",
            "Epoch 19/20\n",
            "61/61 [==============================] - 32s 526ms/step - loss: 0.1645 - accuracy: 0.9416 - val_loss: 0.3623 - val_accuracy: 0.8585\n",
            "Epoch 20/20\n",
            "61/61 [==============================] - 32s 523ms/step - loss: 0.1244 - accuracy: 0.9549 - val_loss: 0.2252 - val_accuracy: 0.9340\n"
          ],
          "name": "stdout"
        }
      ]
    },
    {
      "cell_type": "code",
      "metadata": {
        "id": "q3fjol4qRMqu"
      },
      "source": [
        "import matplotlib.pyplot as plt"
      ],
      "execution_count": 15,
      "outputs": []
    },
    {
      "cell_type": "code",
      "metadata": {
        "colab": {
          "base_uri": "https://localhost:8080/",
          "height": 573
        },
        "id": "e5vIarg0OrGc",
        "outputId": "5eef33f6-fb7a-4a7c-f056-9d3a71ce81df"
      },
      "source": [
        "plt.plot(history.history['accuracy'])\n",
        "plt.plot(history.history['val_accuracy'])\n",
        "plt.title('model accuracy')\n",
        "plt.ylabel('accuracy')\n",
        "plt.xlabel('epoch')\n",
        "plt.legend(['train', 'test'], loc='upper left')\n",
        "plt.show()\n",
        "# summarize history for loss\n",
        "plt.plot(history.history['loss'])\n",
        "plt.plot(history.history['val_loss'])\n",
        "plt.title('model loss')\n",
        "plt.ylabel('loss')\n",
        "plt.xlabel('epoch')\n",
        "plt.legend(['train', 'test'], loc='upper left')\n",
        "plt.show()"
      ],
      "execution_count": 16,
      "outputs": [
        {
          "output_type": "display_data",
          "data": {
            "image/png": "[encoded data removed]",
            "text/plain": [
              "<Figure size 432x288 with 1 Axes>"
            ]
          },
          "metadata": {
            "tags": [],
            "needs_background": "light"
          }
        },
        {
          "output_type": "display_data",
          "data": {
            "image/png": "[encoded data removed]",
            "text/plain": [
              "<Figure size 432x288 with 1 Axes>"
            ]
          },
          "metadata": {
            "tags": [],
            "needs_background": "light"
          }
        }
      ]
    },
    {
      "cell_type": "code",
      "metadata": {
        "colab": {
          "base_uri": "https://localhost:8080/",
          "height": 295
        },
        "id": "h5icLX5-OrDp",
        "outputId": "7710967a-138b-43a2-a68a-c7c00424a94f"
      },
      "source": [
        "#Ploting Acuracy & Loss\n",
        "import matplotlib.pyplot as plt\n",
        "plt.plot(history.history['accuracy'])\n",
        "plt.plot(history.history['val_accuracy'])\n",
        "plt.plot(history.history['loss'])\n",
        "plt.plot(history.history['val_loss'])\n",
        "plt.title(\"Model Accuracy\")\n",
        "plt.ylabel(\"Accuracy\")\n",
        "plt.xlabel(\"Epoch\")\n",
        "plt.legend([\"Accuracy\",\"Validation Accuracy\",\"loss\",\"Validation Loss\"])\n",
        "plt.show()"
      ],
      "execution_count": 18,
      "outputs": [
        {
          "output_type": "display_data",
          "data": {
            "image/png": "[encoded data removed]",
            "text/plain": [
              "<Figure size 432x288 with 1 Axes>"
            ]
          },
          "metadata": {
            "tags": [],
            "needs_background": "light"
          }
        }
      ]
    },
    {
      "cell_type": "code",
      "metadata": {
        "id": "zJfWNLrwOq43"
      },
      "source": [
        "#Save the model as h5 file\n",
        "from tensorflow.keras.models import load_model\n",
        "cnn.save('model_inceptionV3.h5')"
      ],
      "execution_count": 23,
      "outputs": []
    },
    {
      "cell_type": "code",
      "metadata": {
        "id": "ncImddQvOq2A"
      },
      "source": [
        ""
      ],
      "execution_count": null,
      "outputs": []
    },
    {
      "cell_type": "markdown",
      "metadata": {
        "id": "OwBAIAn5SLXk"
      },
      "source": [
        "AlexNet"
      ]
    },
    {
      "cell_type": "code",
      "metadata": {
        "id": "zdohhu32OqzQ"
      },
      "source": [
        "import keras\n",
        "from keras.models import Sequential\n",
        "from keras.layers import Dense, Activation, Dropout, Flatten,Conv2D, MaxPooling2D\n",
        "from keras.layers.normalization import BatchNormalization\n",
        "import numpy as np"
      ],
      "execution_count": 20,
      "outputs": []
    },
    {
      "cell_type": "code",
      "metadata": {
        "id": "G5Yiov2UOqwo"
      },
      "source": [
        "\"\"\"\n",
        "Building AlexNet Model.\n",
        "\"\"\"\n",
        "model = Sequential()\n",
        "\n",
        "# Block 1\n",
        "model.add(Conv2D(filters=96, input_shape=(224,224,3), kernel_size=(11,11),strides=(4,4), padding='valid'))\n",
        "model.add(Activation('relu'))\n",
        "model.add(MaxPooling2D(pool_size=(2,2), strides=(2,2), padding='valid'))\n",
        "model.add(BatchNormalization())\n",
        "\n",
        "# Block 2\n",
        "model.add(Conv2D(filters=256, kernel_size=(11,11), strides=(1,1), padding='valid'))\n",
        "model.add(Activation('relu'))\n",
        "model.add(MaxPooling2D(pool_size=(2,2), strides=(2,2), padding='valid'))\n",
        "model.add(BatchNormalization())\n",
        "\n",
        "# Block 3\n",
        "model.add(Conv2D(filters=384, kernel_size=(3,3), strides=(1,1), padding='valid'))\n",
        "model.add(Activation('relu'))\n",
        "model.add(BatchNormalization())\n",
        "\n",
        "# Block 4\n",
        "model.add(Conv2D(filters=384, kernel_size=(3,3), strides=(1,1), padding='valid'))\n",
        "model.add(Activation('relu'))\n",
        "model.add(BatchNormalization())\n",
        "\n",
        "# Block 5\n",
        "model.add(Conv2D(filters=256, kernel_size=(3,3), strides=(1,1), padding='valid'))\n",
        "model.add(Activation('relu'))\n",
        "model.add(MaxPooling2D(pool_size=(2,2), strides=(2,2), padding='valid'))\n",
        "model.add(BatchNormalization())\n",
        "\n",
        "# Flattening\n",
        "model.add(Flatten())\n",
        "\n",
        "# Dense Layer block 1\n",
        "model.add(Dense(4096, input_shape=(224*224*3,)))\n",
        "model.add(Activation('relu'))\n",
        "model.add(Dropout(0.4)) # Add Dropout to prevent overfitting\n",
        "model.add(BatchNormalization())\n",
        "\n",
        "# Dense Layer block 2\n",
        "model.add(Dense(4096))\n",
        "model.add(Activation('relu'))\n",
        "model.add(Dropout(0.4))\n",
        "model.add(BatchNormalization())\n",
        "\n",
        "# Dense Layer block 3\n",
        "model.add(Dense(1000))\n",
        "model.add(Activation('relu'))\n",
        "model.add(Dropout(0.4))\n",
        "model.add(BatchNormalization())\n",
        "\n",
        "# Additional dense\n",
        "#model.add(Dense(17))\n",
        "#model.add(Activation('relu'))\n",
        "\n",
        "# Output Layer\n",
        "model.add(Dense(4))\n",
        "model.add(Activation('softmax'))"
      ],
      "execution_count": 21,
      "outputs": []
    },
    {
      "cell_type": "code",
      "metadata": {
        "id": "0bQkrXsbOqt7"
      },
      "source": [
        "model.summary()"
      ],
      "execution_count": null,
      "outputs": []
    },
    {
      "cell_type": "code",
      "metadata": {
        "colab": {
          "base_uri": "https://localhost:8080/"
        },
        "id": "Enb-raI3OqrE",
        "outputId": "096986ba-d112-4093-facb-2902ca64a12e"
      },
      "source": [
        "model.compile(loss='categorical_crossentropy', optimizer='adam',metrics=['accuracy'])\n",
        "\n",
        "history = model.fit_generator(training_set,\n",
        "                              validation_data=test_set,\n",
        "                              epochs = 20,\n",
        "                                   steps_per_epoch=len(training_set),\n",
        "                              validation_steps=len(test_set))"
      ],
      "execution_count": 22,
      "outputs": [
        {
          "output_type": "stream",
          "text": [
            "/usr/local/lib/python3.7/dist-packages/keras/engine/training.py:1915: UserWarning: `Model.fit_generator` is deprecated and will be removed in a future version. Please use `Model.fit`, which supports generators.\n",
            "  warnings.warn('`Model.fit_generator` is deprecated and '\n"
          ],
          "name": "stderr"
        },
        {
          "output_type": "stream",
          "text": [
            "Epoch 1/20\n",
            "61/61 [==============================] - 52s 559ms/step - loss: 1.8754 - accuracy: 0.4337 - val_loss: 19.4364 - val_accuracy: 0.2547\n",
            "Epoch 2/20\n",
            "61/61 [==============================] - 32s 533ms/step - loss: 1.0716 - accuracy: 0.5788 - val_loss: 4.2060 - val_accuracy: 0.3774\n",
            "Epoch 3/20\n",
            "61/61 [==============================] - 32s 537ms/step - loss: 0.8759 - accuracy: 0.6461 - val_loss: 3.8220 - val_accuracy: 0.3585\n",
            "Epoch 4/20\n",
            "61/61 [==============================] - 31s 522ms/step - loss: 0.7649 - accuracy: 0.7137 - val_loss: 2.5626 - val_accuracy: 0.3396\n",
            "Epoch 5/20\n",
            "61/61 [==============================] - 32s 534ms/step - loss: 0.7421 - accuracy: 0.7197 - val_loss: 4.3407 - val_accuracy: 0.4906\n",
            "Epoch 6/20\n",
            "61/61 [==============================] - 32s 536ms/step - loss: 0.6732 - accuracy: 0.7463 - val_loss: 2.9739 - val_accuracy: 0.4245\n",
            "Epoch 7/20\n",
            "61/61 [==============================] - 31s 522ms/step - loss: 0.5922 - accuracy: 0.7773 - val_loss: 0.8007 - val_accuracy: 0.6981\n",
            "Epoch 8/20\n",
            "61/61 [==============================] - 31s 523ms/step - loss: 0.5340 - accuracy: 0.8142 - val_loss: 1.4097 - val_accuracy: 0.5377\n",
            "Epoch 9/20\n",
            "61/61 [==============================] - 32s 532ms/step - loss: 0.5180 - accuracy: 0.8138 - val_loss: 4.1089 - val_accuracy: 0.6038\n",
            "Epoch 10/20\n",
            "61/61 [==============================] - 32s 533ms/step - loss: 0.4632 - accuracy: 0.8344 - val_loss: 3.4259 - val_accuracy: 0.2642\n",
            "Epoch 11/20\n",
            "61/61 [==============================] - 31s 516ms/step - loss: 0.4260 - accuracy: 0.8363 - val_loss: 1.2592 - val_accuracy: 0.6132\n",
            "Epoch 12/20\n",
            "61/61 [==============================] - 32s 528ms/step - loss: 0.4725 - accuracy: 0.8280 - val_loss: 1.9344 - val_accuracy: 0.5566\n",
            "Epoch 13/20\n",
            "61/61 [==============================] - 32s 528ms/step - loss: 0.4118 - accuracy: 0.8380 - val_loss: 1.3387 - val_accuracy: 0.5000\n",
            "Epoch 14/20\n",
            "61/61 [==============================] - 32s 526ms/step - loss: 0.3838 - accuracy: 0.8500 - val_loss: 0.7153 - val_accuracy: 0.7830\n",
            "Epoch 15/20\n",
            "61/61 [==============================] - 33s 544ms/step - loss: 0.3795 - accuracy: 0.8586 - val_loss: 0.6869 - val_accuracy: 0.8302\n",
            "Epoch 16/20\n",
            "61/61 [==============================] - 31s 522ms/step - loss: 0.3420 - accuracy: 0.8703 - val_loss: 1.2969 - val_accuracy: 0.7830\n",
            "Epoch 17/20\n",
            "61/61 [==============================] - 32s 525ms/step - loss: 0.3519 - accuracy: 0.8733 - val_loss: 1.1327 - val_accuracy: 0.6226\n",
            "Epoch 18/20\n",
            "61/61 [==============================] - 33s 541ms/step - loss: 0.3342 - accuracy: 0.8701 - val_loss: 5.3297 - val_accuracy: 0.3868\n",
            "Epoch 19/20\n",
            "61/61 [==============================] - 33s 546ms/step - loss: 0.3429 - accuracy: 0.8833 - val_loss: 0.7670 - val_accuracy: 0.7736\n",
            "Epoch 20/20\n",
            "61/61 [==============================] - 33s 547ms/step - loss: 0.3116 - accuracy: 0.8797 - val_loss: 2.2652 - val_accuracy: 0.5943\n"
          ],
          "name": "stdout"
        }
      ]
    },
    {
      "cell_type": "code",
      "metadata": {
        "colab": {
          "base_uri": "https://localhost:8080/",
          "height": 573
        },
        "id": "B6TqxWP_OqoB",
        "outputId": "7eb6edbc-5c52-4c84-dfd8-a697b5461774"
      },
      "source": [
        "plt.plot(history.history['accuracy'])\n",
        "plt.plot(history.history['val_accuracy'])\n",
        "plt.title('model accuracy')\n",
        "plt.ylabel('accuracy')\n",
        "plt.xlabel('epoch')\n",
        "plt.legend(['train', 'test'], loc='upper left')\n",
        "plt.show()\n",
        "# summarize history for loss\n",
        "plt.plot(history.history['loss'])\n",
        "plt.plot(history.history['val_loss'])\n",
        "plt.title('model loss')\n",
        "plt.ylabel('loss')\n",
        "plt.xlabel('epoch')\n",
        "plt.legend(['train', 'test'], loc='upper left')\n",
        "plt.show()"
      ],
      "execution_count": 24,
      "outputs": [
        {
          "output_type": "display_data",
          "data": {
            "image/png": "[encoded data removed]",
            "text/plain": [
              "<Figure size 432x288 with 1 Axes>"
            ]
          },
          "metadata": {
            "tags": [],
            "needs_background": "light"
          }
        },
        {
          "output_type": "display_data",
          "data": {
            "image/png": "[encoded data removed]",
            "text/plain": [
              "<Figure size 432x288 with 1 Axes>"
            ]
          },
          "metadata": {
            "tags": [],
            "needs_background": "light"
          }
        }
      ]
    }
  ]
}